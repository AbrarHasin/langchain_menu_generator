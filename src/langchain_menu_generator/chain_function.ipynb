{
 "cells": [
  {
   "cell_type": "code",
   "execution_count": 9,
   "id": "ab0dbfd1-2cd6-4ccc-95f7-2bcc3e0c4e6c",
   "metadata": {},
   "outputs": [
    {
     "name": "stdout",
     "output_type": "stream",
     "text": [
      "ANTHROPIC_API_KEY set? True\n"
     ]
    }
   ],
   "source": [
    "# Securely load Anthropic API key from local module and set env var if not already set\n",
    "import os\n",
    "from secret_key import anthropic_api_key\n",
    "\n",
    "# Prefer an existing environment variable (for CI/production). Only set it from the local secret when missing.\n",
    "if not os.getenv(\"ANTHROPIC_API_KEY\"):\n",
    "    os.environ[\"ANTHROPIC_API_KEY\"] = anthropic_api_key\n",
    "\n",
    "# Do NOT print the raw key in notebooks or logs. Instead print a confirmation that it's set.\n",
    "print(\"ANTHROPIC_API_KEY set?\", bool(os.getenv(\"ANTHROPIC_API_KEY\")))"
   ]
  },
  {
   "cell_type": "code",
   "execution_count": 10,
   "id": "5bfd03dc-c22b-4c31-9722-bac0fe6742a8",
   "metadata": {},
   "outputs": [
    {
     "name": "stdout",
     "output_type": "stream",
     "text": [
      "Response from Anthropic:\n",
      "The capital of France is Paris. It's not only the capital city but also the largest city in France, known for its iconic landmarks such as the Eiffel Tower, the Louvre Museum, and Notre-Dame Cathedral.\n"
     ]
    }
   ],
   "source": [
    "from langchain_core.messages import SystemMessage, HumanMessage\n",
    "\n",
    "from langchain_anthropic import ChatAnthropic\n",
    "\n",
    "llm = ChatAnthropic(\n",
    "    model=\"claude-3-7-sonnet-20250219\",\n",
    "    temperature=0.6,\n",
    "    timeout=None,\n",
    "    max_retries=5,\n",
    "    anthropic_api_key=anthropic_api_key\n",
    ")\n",
    "\n",
    "messages = [\n",
    "    SystemMessage(content=\"You are a helpful assistant.\"),\n",
    "    HumanMessage(content=\"What is the capital of France?\")\n",
    "]\n",
    "\n",
    "response = llm.invoke(messages)\n",
    "print(\"Response from Anthropic:\")\n",
    "print(response.content)"
   ]
  },
  {
   "cell_type": "code",
   "execution_count": 24,
   "id": "487f57b0-d0cf-4cd4-be8a-e566d210a917",
   "metadata": {},
   "outputs": [],
   "source": [
    "from langchain_core.prompts import ChatPromptTemplate\n",
    "\n",
    "# Create a chat template for restaurant naming\n",
    "name_template = ChatPromptTemplate.from_messages([\n",
    "    (\"system\", \"You are an expert at creating unique, sophisticated restaurant names. Your names should be memorable, culturally appropriate, and elegant.\"),\n",
    "    (\"human\", \"Name of the country is {country}. Provide ONLY a single name for the restaurant, with no explanation or additional text.\")\n",
    "])\n",
    "\n",
    "from langchain.chains import LLMChain\n",
    "\n",
    "name_chain = LLMChain(llm=llm, prompt=name_template, output_key=\"resturant_name\")\n",
    "# name_chain.run({\"country\": \"Italy\"})"
   ]
  },
  {
   "cell_type": "code",
   "execution_count": 25,
   "id": "0f6f674b",
   "metadata": {},
   "outputs": [],
   "source": [
    "# Create a chat template for restaurant naming\n",
    "menu_template = ChatPromptTemplate.from_messages([\n",
    "    (\"system\", \"You are an expert at creating unique, sophisticated food item menu list. Your names should be memorable, culturally appropriate, and elegant with the given resturant name.\"),\n",
    "    (\"human\", \"Name of the resturant is {resturant_name}. Provide me the ONLY a comma separated fancy food item names for the restaurant menu, with no explanation or additional text.\"),\n",
    "])\n",
    "\n",
    "from langchain.chains import LLMChain\n",
    "\n",
    "menu_chain = LLMChain(llm=llm, prompt=menu_template, output_key=\"menu_items\")\n",
    "# menu_chain.run({\"resturant_name\": \"Italy\"})"
   ]
  },
  {
   "cell_type": "code",
   "execution_count": 26,
   "id": "5ab20c78",
   "metadata": {},
   "outputs": [
    {
     "name": "stdout",
     "output_type": "stream",
     "text": [
      "\n",
      "\n",
      "\u001b[1m> Entering new SequentialChain chain...\u001b[0m\n",
      "\n",
      "\u001b[1m> Finished chain.\u001b[0m\n"
     ]
    },
    {
     "data": {
      "text/plain": [
       "{'country': 'Saudi Arabia',\n",
       " 'resturant_name': 'Saffron Oasis',\n",
       " 'menu_items': 'Saffron-Infused Jeweled Rice, Rosewater Pomegranate Lamb Tagine, Cardamom Spiced Date Pudding, Golden Pistachio Baklava, Sumac-Crusted Sea Bass, Harissa Honey Roasted Carrots, Tahini Glazed Aubergine, Preserved Lemon Couscous, Apricot Almond Bisteeya, Saffron Pearl Scallops, Aleppo Pepper Prawns, Ras El Hanout Braised Short Ribs, Fig & Labneh Tartlets, Rosewater Meringue Cloud, Orange Blossom Crème Brûlée, Mint-Scented Lamb Kofta, Pomegranate Molasses Duck, Turmeric Golden Cauliflower, Saffron Poached Pears, Walnut & Halloumi Honey Pastry'}"
      ]
     },
     "execution_count": 26,
     "metadata": {},
     "output_type": "execute_result"
    }
   ],
   "source": [
    "from langchain.chains import SequentialChain\n",
    "\n",
    "chain = SequentialChain(chains=[name_chain, menu_chain], input_variables=[\"country\"], output_variables=[\"resturant_name\", \"menu_items\"], verbose=True)\n",
    "chain.invoke({\"country\": \"Saudi Arabia\"})"
   ]
  }
 ],
 "metadata": {
  "kernelspec": {
   "display_name": "langchain-menu-generator-Ti4BAIXL-py3.12",
   "language": "python",
   "name": "python3"
  },
  "language_info": {
   "codemirror_mode": {
    "name": "ipython",
    "version": 3
   },
   "file_extension": ".py",
   "mimetype": "text/x-python",
   "name": "python",
   "nbconvert_exporter": "python",
   "pygments_lexer": "ipython3",
   "version": "3.12.3"
  }
 },
 "nbformat": 4,
 "nbformat_minor": 5
}
